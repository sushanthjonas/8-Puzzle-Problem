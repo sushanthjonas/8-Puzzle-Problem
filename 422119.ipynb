{
  "nbformat": 4,
  "nbformat_minor": 0,
  "metadata": {
    "colab": {
      "provenance": [],
      "authorship_tag": "ABX9TyMBI1NF0pnrKDM8rgCQ3wzE",
      "include_colab_link": true
    },
    "kernelspec": {
      "name": "python3",
      "display_name": "Python 3"
    },
    "language_info": {
      "name": "python"
    }
  },
  "cells": [
    {
      "cell_type": "markdown",
      "metadata": {
        "id": "view-in-github",
        "colab_type": "text"
      },
      "source": [
        "<a href=\"https://colab.research.google.com/github/sushanthjonas/8-Puzzle-Problem/blob/main/422119.ipynb\" target=\"_parent\"><img src=\"https://colab.research.google.com/assets/colab-badge.svg\" alt=\"Open In Colab\"/></a>"
      ]
    },
    {
      "cell_type": "markdown",
      "source": [
        "## **Implement 8 Puzzle problem using python programming language.**"
      ],
      "metadata": {
        "id": "U19y8M9H4hvy"
      }
    },
    {
      "cell_type": "markdown",
      "source": [
        "Use DFS and BFS to solve 8-puzzle problem and display the solution.\n",
        "Students\n",
        "must be able to explain the choice of the data structure for the nodes\n",
        "(made up of state, parent, action, depth, path cost)."
      ],
      "metadata": {
        "id": "noaXBIVJ45LX"
      }
    },
    {
      "cell_type": "code",
      "execution_count": 1,
      "metadata": {
        "colab": {
          "base_uri": "https://localhost:8080/"
        },
        "id": "QvVEtaUc37Q7",
        "outputId": "7fe9754b-f5b3-40fb-bb42-0062596ccba0"
      },
      "outputs": [
        {
          "output_type": "stream",
          "name": "stdout",
          "text": [
            "Solution Path:\n",
            "(1, 3, 4, 2, 0, 6, 7, 5, 8)\n",
            "(1, 3, 4, 0, 2, 6, 7, 5, 8)\n",
            "(0, 3, 4, 1, 2, 6, 7, 5, 8)\n",
            "(3, 0, 4, 1, 2, 6, 7, 5, 8)\n",
            "(3, 4, 0, 1, 2, 6, 7, 5, 8)\n",
            "(3, 4, 6, 1, 2, 0, 7, 5, 8)\n",
            "(3, 4, 6, 1, 0, 2, 7, 5, 8)\n",
            "(3, 0, 6, 1, 4, 2, 7, 5, 8)\n",
            "(0, 3, 6, 1, 4, 2, 7, 5, 8)\n",
            "(1, 3, 6, 0, 4, 2, 7, 5, 8)\n",
            "(1, 3, 6, 4, 0, 2, 7, 5, 8)\n",
            "(1, 3, 6, 4, 2, 0, 7, 5, 8)\n",
            "(1, 3, 0, 4, 2, 6, 7, 5, 8)\n",
            "(1, 0, 3, 4, 2, 6, 7, 5, 8)\n",
            "(1, 2, 3, 4, 0, 6, 7, 5, 8)\n",
            "(1, 2, 3, 4, 5, 6, 7, 0, 8)\n",
            "(1, 2, 3, 4, 5, 6, 7, 8, 0)\n",
            "Steps: 17\n"
          ]
        }
      ],
      "source": [
        "from collections import deque\n",
        "\n",
        "# Goal state\n",
        "goal_state = (1, 2, 3, 4, 5, 6, 7, 8, 0)\n",
        "\n",
        "def get_neighbors(state):\n",
        "    possible_moves = [(-1, 0), (1, 0), (0, -1), (0, 1)]\n",
        "    zero_index = state.index(0)\n",
        "    row, col = zero_index // 3, zero_index % 3\n",
        "    neighbors = []\n",
        "\n",
        "    for dr, dc in possible_moves:\n",
        "        new_row, new_col = row + dr, col + dc\n",
        "        if 0 <= new_row < 3 and 0 <= new_col < 3:\n",
        "            new_index = new_row * 3 + new_col\n",
        "            new_state = list(state)\n",
        "            new_state[zero_index], new_state[new_index] = new_state[new_index], new_state[zero_index]\n",
        "            neighbors.append(tuple(new_state))\n",
        "\n",
        "    return neighbors\n",
        "\n",
        "def bfs(initial_state):\n",
        "    visited = set()\n",
        "    queue = deque([(initial_state, [], 0)])\n",
        "    while queue:\n",
        "        current_state, path, depth = queue.popleft()\n",
        "        if current_state == goal_state:\n",
        "            return path + [current_state], depth + 1\n",
        "        if current_state in visited:\n",
        "            continue\n",
        "        visited.add(current_state)\n",
        "        for neighbor in get_neighbors(current_state):\n",
        "            queue.append((neighbor, path + [current_state], depth + 1))\n",
        "    return None, None\n",
        "\n",
        "# Example usage\n",
        "initial_configuration = (1, 3, 4, 2, 0, 6, 7, 5, 8)\n",
        "result, steps = bfs(initial_configuration)\n",
        "if result:\n",
        "    print(\"Solution Path:\")\n",
        "    for state in result:\n",
        "        print(state)\n",
        "    print(\"Steps:\", steps)\n",
        "else:\n",
        "    print(\"No solution found\")\n"
      ]
    }
  ]
}